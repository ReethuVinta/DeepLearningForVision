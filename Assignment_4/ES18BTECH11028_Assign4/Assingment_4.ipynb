{
  "nbformat": 4,
  "nbformat_minor": 0,
  "metadata": {
    "colab": {
      "name": "Assingment_4.ipynb",
      "provenance": [],
      "collapsed_sections": []
    },
    "kernelspec": {
      "name": "python3",
      "display_name": "Python 3"
    },
    "accelerator": "GPU"
  },
  "cells": [
    {
      "cell_type": "markdown",
      "metadata": {
        "id": "3z9l7S6RV8-2"
      },
      "source": [
        "#### **Welcome to Assignment 4 (part-1) on Deep Learning for Computer Vision.**\n",
        "In this assignment you will get a chance to implement LSTM cell from Scratch and Usage of Recurrent Neural Network for 1D time series Prediction task .\n",
        "\n",
        "#### **Instructions**\n",
        "1. Use Python 3.x to run this notebook\n",
        "3. Write your code only in between the lines 'YOUR CODE STARTS HERE' and 'YOUR CODE ENDS HERE'.\n",
        "you should not change anything else code cells, if you do, the answers you are supposed to get at the end of this assignment might be wrong.\n",
        "4. Read documentation of each function carefully."
      ]
    },
    {
      "cell_type": "markdown",
      "metadata": {
        "id": "GT8skzfOLu91"
      },
      "source": [
        "## Question 1:\n",
        "\n",
        "Given a sequence of values of a 1D input time series from time t = 1 to t = 5, predict the value of the time series at t = 6 using RNN.\n",
        "\n",
        "Here we trained an RNN in such a way that, given values of input time series from t = 1 to t=i ; it will predict the value at t= i+1.\n",
        "\n",
        "Hint : Design an RNN using pytorch's nn.RNN to create an RNN layer , then add a fully-connected layer to get the required output size.\n",
        "\n",
        "Choose 32 as the number of features in the RNN output and in the hidden state. Also, choose number of layers to be 1 to make up the RNN, typically such number varies depending on different tasks. The value greater than 1 means that you'll create a stacked RNN. Also, use \"batch_first =True\". Here, \"batch_first\" implies whether or not the input/output of the RNN will have the batch_size as the first dimension (batch_size, seq_length, hidden_dim). \n"
      ]
    },
    {
      "cell_type": "code",
      "metadata": {
        "id": "qoVHp8ZWqYpd",
        "colab": {
          "base_uri": "https://localhost:8080/"
        },
        "outputId": "d65966c4-4107-4332-a228-deda237f8d50"
      },
      "source": [
        "import torch\n",
        "from torch import nn\n",
        "import numpy as np\n",
        "import matplotlib.pyplot as plt\n",
        "import numpy as np\n",
        "%matplotlib inline\n",
        "\n",
        "\n",
        "## Fixing the seed for Reproducibility\n",
        "np.random.seed(1)\n",
        "torch.manual_seed(1)\n",
        "\n",
        "## Define 1D input time series, which spans from t= 1 to t=6.\n",
        "input_series = np.random.randn(6,1)\n",
        "\n",
        "\n",
        "class RNN(nn.Module):\n",
        "    def __init__(self, input_size, output_size, hidden_dim, n_layers):\n",
        "        super(RNN, self).__init__()\n",
        "\n",
        "        ### YOUR CODE STARTS HERE\n",
        "        self.input_size = input_size\n",
        "        self.output_size = output_size\n",
        "        self.hidden_dim = hidden_dim\n",
        "        self.n_layers = n_layers\n",
        "        self.rnn = nn.RNN(self.input_size,self.hidden_dim,self.n_layers,batch_first=True)\n",
        "        self.fc = nn.Linear(hidden_dim,output_size)\n",
        "\n",
        "    def forward(self, x, hidden):\n",
        "        batch_size = x.size(0)\n",
        "        if hidden == None:\n",
        "          hidden = torch.zeros(self.n_layers, batch_size, self.hidden_dim)\n",
        "        out, hidden = self.rnn(x,hidden)\n",
        "        out = out.view(-1, self.hidden_dim)\n",
        "        out = self.fc(out)\n",
        "        \n",
        "        return out, hidden\n",
        "    \n",
        "        ### YOUR CODE ENDS HERE\n",
        "\n",
        "# decide on hyperparameters\n",
        "input_size=1    ## 1D input\n",
        "output_size=1   ## 1D output\n",
        "hidden_dim=32  ## Hidden state feature dimension of RNN\n",
        "n_layers=1     ## No. of stacked layers in RNN\n",
        "\n",
        "# instantiate an RNN\n",
        "rnn = RNN(input_size, output_size, hidden_dim, n_layers)\n",
        "\n",
        "# MSE loss and Adam optimizer with a learning rate of 0.01\n",
        "criterion = nn.MSELoss()\n",
        "optimizer = torch.optim.Adam(rnn.parameters(), lr=0.01)\n",
        "\n",
        "# train the RNN\n",
        "def train(rnn, n_steps, print_every):\n",
        "    \n",
        "    # initialize the hidden state\n",
        "    hidden = None      \n",
        "    \n",
        "    for batch_i, step in enumerate(range(n_steps)):\n",
        "        # defining the training data \n",
        "        x = input_series[:-1]\n",
        "        y = input_series[1:]\n",
        "        \n",
        "        # convert data into Tensors\n",
        "        x_tensor = torch.Tensor(x).unsqueeze(0) # unsqueeze gives a 1, batch_size dimension\n",
        "        y_tensor = torch.Tensor(y)\n",
        "\n",
        "        # outputs from the rnn\n",
        "        prediction, hidden = rnn(x_tensor, hidden)\n",
        "\n",
        "        ## Representing Memory ##\n",
        "        # make a new variable for hidden and detach the hidden state from its history\n",
        "        # this way, we don't backpropagate through the entire history\n",
        "        hidden = hidden.data\n",
        "\n",
        "        # calculate the loss\n",
        "        loss = criterion(prediction, y_tensor)\n",
        "        # zero gradients\n",
        "        optimizer.zero_grad()\n",
        "        # perform backprop and update weights\n",
        "        loss.backward()\n",
        "        optimizer.step()\n",
        "\n",
        "        # display loss and predictions\n",
        "        if batch_i%print_every == 0:  \n",
        "            print (batch_i)      \n",
        "            print('Loss: ', loss.item())\n",
        "            print ('Predicted Value: ', prediction.data.numpy().flatten())\n",
        "            print ('True Value: ', y_tensor.data.numpy().flatten())\n",
        "            \n",
        "    \n",
        "    return rnn,prediction[-1]\n",
        "\n",
        "# train the rnn and monitor results\n",
        "trained_rnn,final_prediction = train(rnn, n_steps = 75, print_every= 11)\n",
        "print ('Final predicted value of input time series at t=6: ',final_prediction.item())"
      ],
      "execution_count": 1,
      "outputs": [
        {
          "output_type": "stream",
          "text": [
            "0\n",
            "Loss:  1.5117348432540894\n",
            "Predicted Value:  [-0.18635052 -0.00746428  0.05009793  0.05678663 -0.02306957]\n",
            "True Value:  [-0.6117564  -0.5281718  -1.0729686   0.86540765 -2.3015387 ]\n",
            "11\n",
            "Loss:  0.13453072309494019\n",
            "Predicted Value:  [ 0.00849447 -0.31584212 -1.2586135   1.2727582  -2.5075972 ]\n",
            "True Value:  [-0.6117564  -0.5281718  -1.0729686   0.86540765 -2.3015387 ]\n",
            "22\n",
            "Loss:  0.19528236985206604\n",
            "Predicted Value:  [-1.2275374  -0.65807223 -0.54608953  0.45658743 -1.933278  ]\n",
            "True Value:  [-0.6117564  -0.5281718  -1.0729686   0.86540765 -2.3015387 ]\n",
            "33\n",
            "Loss:  0.08917436003684998\n",
            "Predicted Value:  [-0.07242055 -0.87209296 -1.0512483   0.8208605  -2.486608  ]\n",
            "True Value:  [-0.6117564  -0.5281718  -1.0729686   0.86540765 -2.3015387 ]\n",
            "44\n",
            "Loss:  0.03353014960885048\n",
            "Predicted Value:  [-0.893936  -0.4294107 -1.1992261  0.8064023 -2.0589504]\n",
            "True Value:  [-0.6117564  -0.5281718  -1.0729686   0.86540765 -2.3015387 ]\n",
            "55\n",
            "Loss:  0.009381274692714214\n",
            "Predicted Value:  [-0.52645415 -0.6100819  -0.98218405  0.9279828  -2.445633  ]\n",
            "True Value:  [-0.6117564  -0.5281718  -1.0729686   0.86540765 -2.3015387 ]\n",
            "66\n",
            "Loss:  0.005844640079885721\n",
            "Predicted Value:  [-0.6522238  -0.45216984 -1.0666144   0.76586753 -2.192632  ]\n",
            "True Value:  [-0.6117564  -0.5281718  -1.0729686   0.86540765 -2.3015387 ]\n",
            "Final predicted value of input time series at t=6:  -2.3214540481567383\n"
          ],
          "name": "stdout"
        }
      ]
    },
    {
      "cell_type": "markdown",
      "metadata": {
        "id": "6zfAVRvIFjxh"
      },
      "source": [
        "## Question 2:\n",
        "\n",
        "Given a Multivariate input time sequence and all the trainable parameters of LSTM Cell; Implement all the functionalities of the LSTM cell in order to predict the hidden state and output at time=t; given LSTM \"cell state\" at previous time step (t= t-1), LSTM \"hidden state\" at previous time step ( t= t-1) and the input at time=t. Hint : Follow the following sets of equation for implementing the functionality of LSTM Cell.\n",
        "\n",
        "Forget GATE: $f_{t} = \\sigma(W_{f}[ a_{t-1} ; x_{t}]  + b_{f}) $ (Note that \";\" denotes contatenation operation.)\n",
        "\n",
        "Update GATE: $i_{t} = \\sigma(W_{i}[ a_{t-1} ; x_{t} ] + b_i )$\n",
        "\n",
        "Memory GATE: $\\tilde{c}_{t} = tanh(W_c[ a_{t-1} ; x_{t} ] + b_c )$\n",
        "            update step -> $c_{t} =  f_{t} * c_{t-1} + i_{t} * \\tilde{c}_{t}$  (This operation determines how much information to keep from past and how much to add from current step information)\n",
        "\n",
        "Output GATE: $o_{t} = \\sigma(W_o [ a_{t-1} ; x_{t} ] + b_o)$\n",
        "           Final Output: $a_{t} = o_{t}*tanh(c_t) $\n",
        "( Note: For implementing \"tanh\" operation; use numpy.tanh libary function)\n",
        "\n",
        "\n",
        "a> Compute the value of a specific component of LSTM cell \"Output\" (y), i.e. y[1, 3, 4]? \n",
        "\n",
        "b> Also find the value of a specific component of LSTM hidden state output(a) ; i.e. a[2,1,5].\n",
        "\n",
        "\n"
      ]
    },
    {
      "cell_type": "code",
      "metadata": {
        "id": "FOok6KSeaJ1o",
        "colab": {
          "base_uri": "https://localhost:8080/"
        },
        "outputId": "3fe0918e-0b86-40e3-9712-59272f3c569d"
      },
      "source": [
        "\n",
        "import numpy as np\n",
        "np.random.seed(2)\n",
        "\n",
        "## Function implements Sigmoid Activation\n",
        "def sigmoid(x):\n",
        "    return 1 / (1 + np.exp(-x))\n",
        "\n",
        "## Function implements Softmax Activation\n",
        "def softmax(x):\n",
        "    e_x = np.exp(x - np.max(x))\n",
        "    return e_x / e_x.sum(axis=0)\n",
        "\n",
        "## Function implements LSTM \"forward pass\" of a single time step..i.e. given x at time step t, hidden state \n",
        "##at previous time step Memory state at previous time step , this function computes predicted output y at time step t. \n",
        "\n",
        "def lstm_forward_pass(xt, a_prev, c_prev, parameters):\n",
        "    \"\"\"\n",
        "    Implement a single forward step of the LSTM-cell \n",
        "\n",
        "    Arguments:\n",
        "    xt -- your input data at timestep \"t\"\n",
        "    a_prev -- Hidden state at timestep \"t-1\"\n",
        "    c_prev -- Memory state at timestep \"t-1\"\n",
        "\n",
        "    # Trainable Parameters of a LSTM cell\n",
        "    Wf -- Weight matrix of the forget gate; bf -- Bias of the forget gate\n",
        "    Wi -- Weight matrix of the update gate; bi -- Bias of the update gate\n",
        "    Wc -- Weight matrix of the first \"tanh\"; bc --  Bias of the first \"tanh\"\n",
        "    Wo -- Weight matrix of the output gate; bo --  Bias of the output gate\n",
        "    Wy -- Weight matrix relating the hidden-state to the output; by -- Bias relating the hidden-state to the output\n",
        "                        \n",
        "    The LSTM Cell MUST Returns:\n",
        "    a_next -- next hidden state\n",
        "    c_next -- next memory state\n",
        "    yt_pred -- LSTM output prediction at timestep \"t\"\n",
        "    cache -- tuple of values needed for the backward pass, contains (a_next, c_next, a_prev, c_prev, xt, parameters)\n",
        "    Note: ft/it/ot stand for the forget/update/output gates, cct stands for the candidate value (c tilde),\n",
        "          c stands for the memory value\n",
        "    \"\"\"\n",
        "\n",
        "    # Retrieve parameters from \"parameters\"\n",
        "    Wf = parameters[\"Wf\"]; bf = parameters[\"bf\"]\n",
        "    Wi = parameters[\"Wi\"]; bi = parameters[\"bi\"]\n",
        "    Wc = parameters[\"Wc\"]; bc = parameters[\"bc\"]\n",
        "    Wo = parameters[\"Wo\"]; bo = parameters[\"bo\"]\n",
        "    Wy = parameters[\"Wy\"]; by = parameters[\"by\"]\n",
        "    \n",
        "    # Retrieve dimensions from shapes of xt and Wy\n",
        "    n_x, m = xt.shape\n",
        "    n_y, n_a = Wy.shape\n",
        "\n",
        "    ### YOUR CODE STARTS HERE ###\n",
        "    prev_concatenate = np.zeros([n_x+n_a,m])\n",
        "    prev_concatenate[: n_a,:] = a_prev\n",
        "    prev_concatenate[n_a:, :] = xt\n",
        "\n",
        "    ft = sigmoid(np.dot(Wf,prev_concatenate) + bf)\n",
        "    it = sigmoid(np.dot(Wi,prev_concatenate) + bi)\n",
        "    ot = sigmoid(np.dot(Wo,prev_concatenate) + bo)\n",
        "\n",
        "    cct = np.tanh(np.dot(Wc,prev_concatenate)+bc)\n",
        "    c_next = ft * c_prev + it * cct\n",
        "    a_next = ot * np.tanh(c_next)\n",
        "\n",
        "    yt_pred = softmax(np.dot(Wy,a_next) + by)\n",
        "\n",
        "    ### YOUR CODE ENDS HERE ###\n",
        "\n",
        "    # store values needed for backward propagation in cache\n",
        "    cache = (a_next, c_next, a_prev, c_prev, ft, it, cct, ot, xt, parameters)\n",
        "\n",
        "    return a_next, c_next, yt_pred, cache\n",
        "\n",
        "def lstm_forward(x, a0, parameters):\n",
        "    \"\"\"\n",
        "    Implement the forward propagation of the recurrent neural network using an LSTM-cell.\n",
        "\n",
        "    Arguments:\n",
        "    x -- Input data for every time-step\n",
        "    a0 -- Initial hidden state of LSTM cell\n",
        "    parameters \n",
        "    Wf -- Weight matrix of the forget gate ;bf -- Bias of the forget gate\n",
        "    Wi -- Weight matrix of the update gate ;bi -- Bias of the update gate\n",
        "    Wc -- Weight matrix of the first \"tanh\";bc -- Bias of the first \"tanh\"\n",
        "    Wo -- Weight matrix of the output gate; bo -- Bias of the output gate\n",
        "    Wy -- Weight matrix relating the hidden-state to the output; by -- Bias relating the hidden-state to the output\n",
        "                        \n",
        "    This Function call MUST Returns:\n",
        "    a -- Hidden states for every time-step, numpy array of shape (n_a, m, T_x)\n",
        "    y -- Predictions for every time-step, numpy array of shape (n_y, m, T_x)\n",
        "    c -- Memory states for every time-step\n",
        "    caches -- tuple of values needed for the backward pass, contains (list of all the caches, x)\n",
        "    \"\"\"\n",
        "\n",
        "    # Initialize \"caches\", which will track the list of all the caches\n",
        "    caches = []\n",
        "    \n",
        "    ### YOUR CODE STARTS HERE ###\n",
        "    n_x, m, time_x = x.shape\n",
        "    Wy = parameters[\"Wy\"]\n",
        "    n_y, n_a = Wy.shape\n",
        "\n",
        "    a = np.zeros([n_a, m, time_x])    # Initialising a,c,y,a_next,c_next matrices\n",
        "    c = np.zeros([n_a, m, time_x])\n",
        "    y = np.zeros([n_y, m, time_x])\n",
        "    a_next = a0\n",
        "    c_next = np.zeros([n_a,m])\n",
        "    \n",
        "    for current_t in range(time_x):\n",
        "        a_next, c_next, yt, cache = lstm_forward_pass(x[:,:,current_t], a_next, c_next, parameters)\n",
        "        a[:,:,current_t] = a_next     # Saving the value of hidden, cell, prediction states \n",
        "        c[:,:,current_t] = c_next\n",
        "        y[:,:,current_t] = yt\n",
        "        caches.append(cache)\n",
        "\n",
        "    ### YOUR CODE ENDS HERE ###\n",
        "\n",
        "    # store values needed for backward propagation in cache\n",
        "    caches = (caches, x)\n",
        "    \n",
        "\n",
        "    return a, y, c, caches\n",
        "\n",
        "# Input time sequence\n",
        "x = np.random.randn(3,10,7)\n",
        "\n",
        "# Initial Hidden state of LSTM\n",
        "a0 = np.random.randn(5,10)\n",
        "\n",
        "# Weight and Bias Parameters of FORGET gate\n",
        "Weight_f = np.random.randn(5, 8); bias_f = np.random.randn(5,1)\n",
        "\n",
        "# Weight and Bias Parameters of UPDATE gate\n",
        "Weight_i = np.random.randn(5, 8); bias_i = np.random.randn(5,1)\n",
        "\n",
        "# Weight and Bias Parameters of OUTPUT gate\n",
        "Weight_o = np.random.randn(5, 8); bias_o = np.random.randn(5,1)\n",
        "\n",
        "# Weight and Bias Parameters of MEMORY gate (updating the cell)\n",
        "Weight_c = np.random.randn(5, 8); bias_c = np.random.randn(5,1)\n",
        "\n",
        "# Weight and bias for transforming hidden state output to final LSTM output for downstream application\n",
        "Weight_y = np.random.randn(2,5); bias_y = np.random.randn(2,1)\n",
        "\n",
        "LSTM_parameters = {\"Wf\": Weight_f, \"Wi\": Weight_i, \"Wo\": Weight_o, \"Wc\": Weight_c, \"Wy\": Weight_y, \"bf\": bias_f, \"bi\": bias_i, \"bo\": bias_o, \"bc\": bias_c, \"by\": bias_y}\n",
        "\n",
        "a, y, c, caches = lstm_forward(x, a0, LSTM_parameters)\n",
        "\n",
        "## Print the specific component value of LSTM cell \"Output\" (y) ;i.e. y[1,3,4]\n",
        "print(\"y[1][3][4] =\", y[1][3][4])\n",
        "print(\"y.shape = \", y.shape)\n",
        "\n",
        "## Print the specific component value of LSTM \"hidden state\" Output (a) ;i.e. a[2,1,5]\n",
        "print(\"a[2][1][5] = \", a[2][1][5])\n",
        "print(\"a.shape = \", a.shape)"
      ],
      "execution_count": 2,
      "outputs": [
        {
          "output_type": "stream",
          "text": [
            "y[1][3][4] = 0.21083866421151456\n",
            "y.shape =  (2, 10, 7)\n",
            "a[2][1][5] =  0.023019435434183624\n",
            "a.shape =  (5, 10, 7)\n"
          ],
          "name": "stdout"
        }
      ]
    },
    {
      "cell_type": "markdown",
      "metadata": {
        "id": "2SQRxSU9Tkwx"
      },
      "source": [
        "## Question 3:\n",
        "\n",
        "Time series prediction using recurrent models. \n",
        "\n",
        "Use the airline-passengers.csv file for this task.\n",
        "\n"
      ]
    },
    {
      "cell_type": "code",
      "metadata": {
        "id": "5e5Athrzw-DA",
        "colab": {
          "base_uri": "https://localhost:8080/",
          "height": 265
        },
        "outputId": "4380b00d-9adc-4385-f7cd-9a668913cbfe"
      },
      "source": [
        "import numpy as np\n",
        "import matplotlib.pyplot as plt\n",
        "import pandas as pd\n",
        "import torch\n",
        "import torch.nn as nn\n",
        "from torch.autograd import Variable\n",
        "from sklearn.preprocessing import MinMaxScaler\n",
        "\n",
        "training_set = pd.read_csv('airline-passengers.csv')\n",
        "#training_set = pd.read_csv('shampoo.csv')\n",
        "\n",
        "training_set = training_set.iloc[:,1:2].values\n",
        "\n",
        "#plt.plot(training_set, label = 'Shampoo Sales Data')\n",
        "plt.plot(training_set, label = 'Airline Passangers Data')\n",
        "plt.show()"
      ],
      "execution_count": 3,
      "outputs": [
        {
          "output_type": "display_data",
          "data": {
            "image/png": "[encoded data removed]",
            "text/plain": [
              "<Figure size 432x288 with 1 Axes>"
            ]
          },
          "metadata": {
            "tags": [],
            "needs_background": "light"
          }
        }
      ]
    },
    {
      "cell_type": "markdown",
      "metadata": {
        "id": "_qo-Bn3vxGvD"
      },
      "source": [
        "## Prepare the training and testing dataset.\n"
      ]
    },
    {
      "cell_type": "code",
      "metadata": {
        "id": "ZCFod5yYxQXt"
      },
      "source": [
        "def sliding_windows(data, seq_length):\n",
        "    x = []\n",
        "    y = []\n",
        "\n",
        "    for i in range(len(data)-seq_length-1):\n",
        "        _x = data[i:(i+seq_length)]\n",
        "        _y = data[i+seq_length]\n",
        "        x.append(_x)\n",
        "        y.append(_y)\n",
        "\n",
        "    return np.array(x),np.array(y)\n",
        "\n",
        "sc = MinMaxScaler()\n",
        "training_data = sc.fit_transform(training_set)\n",
        "\n",
        "seq_length = 4\n",
        "x, y = sliding_windows(training_data, seq_length)\n",
        "\n",
        "train_size = int(len(y) * 0.67)\n",
        "test_size = len(y) - train_size\n",
        "\n",
        "dataX = Variable(torch.Tensor(np.array(x)))\n",
        "dataY = Variable(torch.Tensor(np.array(y)))\n",
        "\n",
        "trainX = Variable(torch.Tensor(np.array(x[0:train_size])))\n",
        "trainY = Variable(torch.Tensor(np.array(y[0:train_size])))\n",
        "\n",
        "testX = Variable(torch.Tensor(np.array(x[train_size:len(x)])))\n",
        "testY = Variable(torch.Tensor(np.array(y[train_size:len(y)])))"
      ],
      "execution_count": 4,
      "outputs": []
    },
    {
      "cell_type": "markdown",
      "metadata": {
        "id": "6-fbsv6_xVhu"
      },
      "source": [
        "## Create the model"
      ]
    },
    {
      "cell_type": "code",
      "metadata": {
        "id": "KC_5L1NIxUsR"
      },
      "source": [
        "class LSTM(nn.Module):\n",
        "\n",
        "    def __init__(self, num_classes, input_size, hidden_size, num_layers):\n",
        "        super(LSTM, self).__init__()\n",
        "        \n",
        "        self.num_classes = num_classes\n",
        "        self.num_layers = num_layers\n",
        "        self.input_size = input_size\n",
        "        self.hidden_size = hidden_size\n",
        "        self.seq_length = seq_length\n",
        "\n",
        "        # Your code goes here\n",
        "        self.lstm = nn.LSTM(input_size = self.input_size,hidden_size = self.hidden_size,num_layers = self.num_layers, batch_first=True)\n",
        "        self.fc = nn.Linear(self.hidden_size,self.num_classes)\n",
        "        # define a lstm block and a fc block\n",
        "\n",
        "    def forward(self, x):\n",
        "       \n",
        "        # Your code goes here\n",
        "        h_0 = Variable(torch.zeros(self.num_layers, x.size(0), self.hidden_size))\n",
        "        c_0 = Variable(torch.zeros(self.num_layers, x.size(0), self.hidden_size))\n",
        "\n",
        "        output, (h_n, c_n) = self.lstm(x, (h_0, c_0))\n",
        "        h_n = h_n.view(-1, self.hidden_size)\n",
        "        out = self.fc(h_n)\n",
        "        # Define a forward function for the LSTM block\n",
        "        \n",
        "        return out"
      ],
      "execution_count": 5,
      "outputs": []
    },
    {
      "cell_type": "markdown",
      "metadata": {
        "id": "sQKOnThFxxuJ"
      },
      "source": [
        "## Training"
      ]
    },
    {
      "cell_type": "code",
      "metadata": {
        "id": "vlj9F1Z6xxFR",
        "colab": {
          "base_uri": "https://localhost:8080/"
        },
        "outputId": "8df2f695-baa4-4765-8961-d459c48219c0"
      },
      "source": [
        "num_epochs = 2000\n",
        "learning_rate = 0.01\n",
        "\n",
        "input_size = 1\n",
        "hidden_size = 2\n",
        "num_layers = 1\n",
        "\n",
        "num_classes = 1\n",
        "\n",
        "lstm = LSTM(num_classes, input_size, hidden_size, num_layers)\n",
        "\n",
        "criterion = torch.nn.MSELoss()    # mean-squared error for regression\n",
        "optimizer = torch.optim.Adam(lstm.parameters(), lr=learning_rate)\n",
        "#optimizer = torch.optim.SGD(lstm.parameters(), lr=learning_rate)\n",
        "\n",
        "# Train the model\n",
        "for epoch in range(num_epochs):\n",
        "\n",
        "    # Your code goes here\n",
        "    # define a training iteration to the lstm model. Use loss variable to compute the training loss\n",
        "    output = lstm(trainX)\n",
        "  \n",
        "    optimizer.zero_grad()\n",
        "\n",
        "    loss = criterion(output, trainY)\n",
        "    loss.backward()\n",
        "    optimizer.step()\n",
        "    if epoch % 100 == 0:\n",
        "      print(\"Epoch: %d, loss: %1.5f\" % (epoch, loss.item()))"
      ],
      "execution_count": 6,
      "outputs": [
        {
          "output_type": "stream",
          "text": [
            "Epoch: 0, loss: 0.06601\n",
            "Epoch: 100, loss: 0.00327\n",
            "Epoch: 200, loss: 0.00249\n",
            "Epoch: 300, loss: 0.00200\n",
            "Epoch: 400, loss: 0.00180\n",
            "Epoch: 500, loss: 0.00172\n",
            "Epoch: 600, loss: 0.00170\n",
            "Epoch: 700, loss: 0.00168\n",
            "Epoch: 800, loss: 0.00168\n",
            "Epoch: 900, loss: 0.00167\n",
            "Epoch: 1000, loss: 0.00167\n",
            "Epoch: 1100, loss: 0.00167\n",
            "Epoch: 1200, loss: 0.00166\n",
            "Epoch: 1300, loss: 0.00166\n",
            "Epoch: 1400, loss: 0.00166\n",
            "Epoch: 1500, loss: 0.00166\n",
            "Epoch: 1600, loss: 0.00166\n",
            "Epoch: 1700, loss: 0.00165\n",
            "Epoch: 1800, loss: 0.00164\n",
            "Epoch: 1900, loss: 0.00164\n"
          ],
          "name": "stdout"
        }
      ]
    },
    {
      "cell_type": "markdown",
      "metadata": {
        "id": "gF0UsfR8yFrO"
      },
      "source": [
        "## Test and Visualize the results. \n",
        "Plot the output of time series similar to the data plot above."
      ]
    },
    {
      "cell_type": "code",
      "metadata": {
        "id": "y7-eERYByJ3O",
        "colab": {
          "base_uri": "https://localhost:8080/",
          "height": 298
        },
        "outputId": "bf40c26e-2d31-4060-d13d-6c593c5c5585"
      },
      "source": [
        "lstm.eval()     # Evaluation phase\n",
        "predictions = lstm(dataX)\n",
        "print(type(predictions))\n",
        "predictions_numpy = predictions.data.numpy()\n",
        "dataY_numpy = dataY.data.numpy()\n",
        "\n",
        "predictions_numpy = sc.inverse_transform(predictions_numpy)\n",
        "dataY_numpy = sc.inverse_transform(dataY_numpy)\n",
        "\n",
        "\n",
        "plt.plot(dataY_numpy, 'r-')\n",
        "plt.plot(predictions_numpy, 'b-')\n",
        "plt.legend([\"Data\",\"Predictions\"])\n",
        "plt.title('Predictions using LSTM')\n",
        "plt.show()"
      ],
      "execution_count": 7,
      "outputs": [
        {
          "output_type": "stream",
          "text": [
            "<class 'torch.Tensor'>\n"
          ],
          "name": "stdout"
        },
        {
          "output_type": "display_data",
          "data": {
            "image/png": "[encoded data removed]",
            "text/plain": [
              "<Figure size 432x288 with 1 Axes>"
            ]
          },
          "metadata": {
            "tags": [],
            "needs_background": "light"
          }
        }
      ]
    },
    {
      "cell_type": "markdown",
      "metadata": {
        "id": "OPTjxV0G6g8X"
      },
      "source": [
        "#### **Welcome to Assignment 4 (part-2) on Deep Learning for Computer Vision.**\n",
        "This question consists of two subsection. In subsection-1 you'll have to code a Siamese Network, for subsection-2 you need to go through a official PyTorch tutorial on Object Detection, understand it and answer some questions.\n",
        "  \n",
        "#### **Instructions**\n",
        "1. Use Python 3.x to run this notebook\n",
        "2. Write your code only in between the lines 'YOUR CODE STARTS HERE' and 'YOUR CODE ENDS HERE'.\n",
        "you should not change anything else in the code cells, if you do, the answers you are supposed to get at the end of this assignment might be wrong.\n",
        "3. Read documentation of each function carefully.\n",
        "4. All the Best!"
      ]
    },
    {
      "cell_type": "code",
      "metadata": {
        "id": "tJwH6jxrqI-5"
      },
      "source": [
        "import numpy as np\n",
        "import torch\n",
        "import torch.nn as nn\n",
        "import torch.optim as optim\n",
        "from torchvision import datasets, transforms\n",
        "import torch.nn.functional as F\n",
        "from torch.utils.data import Dataset, ConcatDataset\n",
        "from torch.utils.data.sampler import BatchSampler\n",
        "from torch.optim import lr_scheduler\n",
        "from PIL import Image\n",
        "import timeit\n",
        "\n",
        "## Please DONOT remove these lines. \n",
        "torch.manual_seed(0)\n",
        "torch.backends.cudnn.deterministic = True\n",
        "torch.backends.cudnn.benchmark = False\n",
        "np.random.seed(0)\n",
        "########################\n",
        "\n",
        "#### YOUR CODE STARTS HERE ####\n",
        "# Check availability of GPU and set the device accordingly\n",
        "device = torch.device(\"cuda\" if torch.cuda.is_available() else \"cpu\") \n",
        "#### YOUR CODE ENDS HERE ####"
      ],
      "execution_count": 8,
      "outputs": []
    },
    {
      "cell_type": "code",
      "metadata": {
        "colab": {
          "base_uri": "https://localhost:8080/"
        },
        "id": "Cy1p6M8FQ1x-",
        "outputId": "738e9179-691a-4e59-dadb-9cab07a111aa"
      },
      "source": [
        "!wget www.di.ens.fr/~lelarge/MNIST.tar.gz\n",
        "!tar -zxvf MNIST.tar.gz"
      ],
      "execution_count": 9,
      "outputs": [
        {
          "output_type": "stream",
          "text": [
            "--2021-04-01 07:38:15--  http://www.di.ens.fr/~lelarge/MNIST.tar.gz\n",
            "Resolving www.di.ens.fr (www.di.ens.fr)... 129.199.99.14\n",
            "Connecting to www.di.ens.fr (www.di.ens.fr)|129.199.99.14|:80... connected.\n",
            "HTTP request sent, awaiting response... 302 Found\n",
            "Location: https://www.di.ens.fr/~lelarge/MNIST.tar.gz [following]\n",
            "--2021-04-01 07:38:15--  https://www.di.ens.fr/~lelarge/MNIST.tar.gz\n",
            "Connecting to www.di.ens.fr (www.di.ens.fr)|129.199.99.14|:443... connected.\n",
            "HTTP request sent, awaiting response... 200 OK\n",
            "Length: unspecified [application/x-gzip]\n",
            "Saving to: ‘MNIST.tar.gz’\n",
            "\n",
            "MNIST.tar.gz            [        <=>         ]  33.20M  6.83MB/s    in 14s     \n",
            "\n",
            "2021-04-01 07:38:29 (2.40 MB/s) - ‘MNIST.tar.gz’ saved [34813078]\n",
            "\n",
            "MNIST/\n",
            "MNIST/raw/\n",
            "MNIST/raw/train-labels-idx1-ubyte\n",
            "MNIST/raw/t10k-labels-idx1-ubyte.gz\n",
            "MNIST/raw/t10k-labels-idx1-ubyte\n",
            "MNIST/raw/t10k-images-idx3-ubyte.gz\n",
            "MNIST/raw/train-images-idx3-ubyte\n",
            "MNIST/raw/train-labels-idx1-ubyte.gz\n",
            "MNIST/raw/t10k-images-idx3-ubyte\n",
            "MNIST/raw/train-images-idx3-ubyte.gz\n",
            "MNIST/processed/\n",
            "MNIST/processed/training.pt\n",
            "MNIST/processed/test.pt\n"
          ],
          "name": "stdout"
        }
      ]
    },
    {
      "cell_type": "markdown",
      "metadata": {
        "id": "nhSvcqdYqJ6U"
      },
      "source": [
        "#### Prepare the dataset for Siamese Network"
      ]
    },
    {
      "cell_type": "code",
      "metadata": {
        "id": "stYbGPoLqzDE"
      },
      "source": [
        "class SiameseDataset(Dataset):\n",
        "    def __init__(self, train=True):\n",
        "        \n",
        "        self.train = train\n",
        "        #### YOUR CODE STARTS HERE ####\n",
        "        # Define a set of transforms for preparing the dataset\n",
        "        to_tensor = transforms.ToTensor()\n",
        "        normalise = transforms.Normalize(mean= (0.1307,),std = (0.3081,))\n",
        "                          # convert the image to a pytorch tensor\n",
        "                          # normalise the images with mean and std of the dataset\n",
        "        self.transform = transforms.Compose([to_tensor,normalise,])\n",
        "        # Load the MNIST training, test datasets using `torchvision.datasets.MNIST\n",
        "        # Set the train parameter to self.train and transform parameter to self.transform\n",
        "        train_dataset = datasets.MNIST('./',train=True,download=True,transform=self.transform)\n",
        "        test_dataset = datasets.MNIST('./',train=False,download=True,transform=self.transform)\n",
        "\n",
        "        if self.train:\n",
        "            self.dataset = train_dataset\n",
        "        else:\n",
        "            self.dataset = test_dataset\n",
        "        #### YOUR CODE ENDS HERE ####\n",
        "        if self.train:\n",
        "            #### YOUR CODE STARTS HERE ####\n",
        "            # assign input (x-values) of training data \n",
        "            self.train_data = self.dataset.data\n",
        "            # assign labels of training data \n",
        "            self.train_labels = self.dataset.targets\n",
        "            # get the set of all the labels in the dataset\n",
        "            self.labels_all = set(self.train_labels.numpy())\n",
        "            # assign a unique index to all labels in the dataset and store them in a dictionary \n",
        "            self.label_to_idx = {label: np.where(self.train_labels.numpy() == label)[0] for label in self.labels_all} \n",
        "\n",
        "            #### YOUR CODE ENDS HERE ####\n",
        "        else:\n",
        "            #### YOUR CODE STARTS HERE ####\n",
        "            # assign input (x-values) of test data \n",
        "            self.test_data = self.dataset.data\n",
        "            # assign labels of test data \n",
        "            self.test_labels = self.dataset.targets\n",
        "            # get the set of all the labels in the dataset\n",
        "            self.labels_all = set(self.test_labels.numpy())\n",
        "            self.label_to_idx = {label: np.where(self.test_labels.numpy() == label)[0] for label in self.labels_all} # assign a unique index to all labels in the dataset and store them in a dictionary \n",
        "\n",
        "            #### YOUR CODE ENDS HERE ####\n",
        "            # DONOT change this line of code  \n",
        "            random_state = np.random.RandomState(0)\n",
        "\n",
        "            positive_samples = [] # this will be a list of lists\n",
        "            for ind in range(0, len(self.test_data), 2):\n",
        "              positive_samples.append([ind, random_state.choice(self.label_to_idx[self.test_labels[ind].item()]), 1])\n",
        "            \n",
        "            negative_samples = []\n",
        "            for ind in range(1, len(self.test_data), 2):\n",
        "              negative_samples.append([ind, random_state.choice(self.label_to_idx[np.random.choice(\n",
        "                                                           list(self.labels_all - set([self.test_labels[ind].item()])))]), 0])\n",
        "            \n",
        "            # combine both positive and negative samples into a single variable\n",
        "            #### YOUR CODE STARTS HERE ####\n",
        "            self.test_samples = positive_samples + negative_samples\n",
        "            #### YOUR CODE ENDS HERE ####\n",
        "    def __len__(self):\n",
        "        return len(self.dataset)\n",
        "\n",
        "    def __getitem__(self, index):\n",
        "        # get image pair, and the associated label (1 for similar, 0 for dissimilar)\n",
        "        if self.train:\n",
        "            #### YOUR CODE STARTS HERE ####\n",
        "            # choose if training sample is similar or dissimilar\n",
        "            target = np.random.randint(0,2)\n",
        "            # choose two images call them `first_image` and `second_image`\n",
        "            first_image = self.train_data[index]\n",
        "            first_label = self.train_labels[index].item()\n",
        "            if target == 1:\n",
        "                index_siamese = index\n",
        "                while index_siamese == index:\n",
        "                    index_siamese = np.random.choice(self.label_to_idx[first_label])\n",
        "            else:\n",
        "                label_siamese = np.random.choice(list(self.labels_all - set([first_label])))\n",
        "                index_siamese = np.random.choice(self.label_to_idx[label_siamese])\n",
        "            second_image = self.train_data[index_siamese]\n",
        "            #### YOUR CODE ENDS HERE ####\n",
        "        else:\n",
        "            #### YOUR CODE STARTS HERE ####\n",
        "            # select two images from self.test_samples, call them `first_image` and `second_image`\n",
        "            first_image =  self.test_data[self.test_samples[index][0]]\n",
        "            second_image =  self.test_data[self.test_samples[index][1]]\n",
        "            target = self.test_samples[index][2]\n",
        "            #### YOUR CODE ENDS HERE ####\n",
        "        \n",
        "        first_image = Image.fromarray(first_image.numpy(), mode='L')\n",
        "        second_image = Image.fromarray(second_image.numpy(), mode='L')\n",
        "        first_image = self.transform(first_image)\n",
        "        second_image = self.transform(second_image)\n",
        "        return (first_image, second_image), target\n"
      ],
      "execution_count": 10,
      "outputs": []
    },
    {
      "cell_type": "code",
      "metadata": {
        "id": "9gEE-dEarnvg"
      },
      "source": [
        "class EmbeddingNet(nn.Module):\n",
        "    def __init__(self):\n",
        "        super(EmbeddingNet, self).__init__()\n",
        "        #### YOUR CODE STARTS HERE ####\n",
        "        # Define a sequential block as per the instructions below:\n",
        "        # Build three blocks with each block containing: Conv->PReLU->Maxpool layers\n",
        "        # Three conv layers should have 16, 32, 64 output channels respectively\n",
        "        # Use convolution kernel size 3\n",
        "        # For maxpool use a kernel size of 2 and stride of 2\n",
        "\n",
        "        self.convnet = nn.Sequential(nn.Conv2d(1, 16, kernel_size=3), \n",
        "                                     nn.PReLU(),\n",
        "                                     nn.MaxPool2d(2, stride=2),\n",
        "                                     nn.Conv2d(16, 32, kernel_size=3), \n",
        "                                     nn.PReLU(),\n",
        "                                     nn.MaxPool2d(2, stride=2),\n",
        "                                     nn.Conv2d(32, 64, kernel_size=3), \n",
        "                                     nn.PReLU(),\n",
        "                                     nn.MaxPool2d(2, stride=2))\n",
        "\n",
        "\n",
        "        # Define linear->PReLU->linear->PReLU->linear\n",
        "        # The first two linear layers should have 256 and 128 output nodes\n",
        "        # The final FC layer should have 2 nodes\n",
        "        self.fc = nn.Sequential(nn.Linear(64, 256),\n",
        "                                nn.PReLU(),\n",
        "                                nn.Linear(256, 128),\n",
        "                                nn.PReLU(),\n",
        "                                nn.Linear(128, 2)\n",
        "                                )\n",
        "\n",
        "        #### YOUR CODE ENDS HERE ####\n",
        "\n",
        "    def forward(self, x):\n",
        "      #### YOUR CODE STARTS HERE ####\n",
        "        # Define the forward pass, convnet -> fc\n",
        "        output = self.convnet(x)\n",
        "        output = output.view(output.size()[0], -1)\n",
        "        output = self.fc(output)\n",
        "        #### YOUR CODE ENDS HERE ####\n",
        "        return output"
      ],
      "execution_count": 11,
      "outputs": []
    },
    {
      "cell_type": "code",
      "metadata": {
        "id": "JPIClNjsrz78"
      },
      "source": [
        "class SiameseNetwork(nn.Module):\n",
        "    def __init__(self, embedding_net):\n",
        "        super(SiameseNetwork, self).__init__()\n",
        "        self.embedding_net = embedding_net\n",
        "\n",
        "    def forward(self, x1, x2):\n",
        "        # Call the embedding network for both the inputs and return the output\n",
        "        #### YOUR CODE ENDS HERE ####\n",
        "        op1 = self.embedding_net(x1)\n",
        "        op2 = self.embedding_net(x2)\n",
        "        #### YOUR CODE ENDS HERE ####\n",
        "        return op1, op2"
      ],
      "execution_count": 12,
      "outputs": []
    },
    {
      "cell_type": "markdown",
      "metadata": {
        "id": "nzlZzVgmM3hC"
      },
      "source": [
        "Pairwise contrastive loss\n",
        "$$\n",
        "L\\left(x_{0}, x_{1}, y\\right)=\\frac{1}{2} y\\left\\|f\\left(x_{0}\\right)-f\\left(x_{1}\\right)\\right\\|_{2}^{2}+\\frac{1}{2}(1-y)\\left\\{\\max (0, m-\\sqrt{\\|f(x_{0})-f(x_{1})\\|_{2}^{2} + \\epsilon)})\\right\\}^{2}\n",
        "$$"
      ]
    },
    {
      "cell_type": "code",
      "metadata": {
        "id": "BclsdWZSr4RK"
      },
      "source": [
        "class ContrastiveLossSiamese(nn.Module):\n",
        "\n",
        "    def __init__(self, margin):\n",
        "        super(ContrastiveLossSiamese, self).__init__()\n",
        "        self.margin = margin\n",
        "        self.eps = 1e-9\n",
        "\n",
        "    def forward(self, output1, output2, target):\n",
        "        # Use the equation mentioned above to define the loss\n",
        "        #### YOUR CODE STARTS HERE ####\n",
        "        distance = (output2 - output1).pow(2).sum(1) \n",
        "        loss_value = (1/2)*target*distance + (1/2)*(1-target)*(F.relu(self.margin - (distance + self.eps).sqrt()).pow(2))\n",
        "        #### YOUR CODE ENDS HERE ####\n",
        "        loss_value = loss_value.mean()\n",
        "\n",
        "        return loss_value"
      ],
      "execution_count": 13,
      "outputs": []
    },
    {
      "cell_type": "code",
      "metadata": {
        "id": "ZVrUkFLmca1I"
      },
      "source": [
        "def train(model, train_loader, device, optimizer, criterion, epoch):\n",
        "    model.train()\n",
        "    losses = []\n",
        "    total_loss = 0\n",
        "\n",
        "    for batch_idx, (data, target) in enumerate(train_loader):\n",
        "        target = target if len(target) > 0 else None\n",
        "        #### YOUR CODE STARTS HERE ####\n",
        "        # send the image, target to the device\n",
        "        # data is not a single value here,\n",
        "        # ensure datatype of variable `data` is tuple\n",
        "        if not type(data) in [tuple,list]:\n",
        "            data = (data,)\n",
        "        if torch.cuda.is_available():\n",
        "            data = tuple(d.cuda() for d in data)\n",
        "            if target is not None:\n",
        "                target = target.cuda()\n",
        "        # flush out the gradients stored in optimizer\n",
        "        optimizer.zero_grad()\n",
        "        # pass the image to the model and assign the output to variable named outputs\n",
        "        # python star operator will be useful here\n",
        "        outputs = model(*data)\n",
        "        # if the datatype of outputs is not a tuple, make it to a tuple\n",
        "        if type(outputs) not in [tuple,list]:\n",
        "            outputs = (outputs,)\n",
        "        # create inputs to the contrastive loss (datatype should be tuple)\n",
        "        # calculate the loss using criterion \n",
        "        input_loss = outputs\n",
        "        if target is not None:\n",
        "            target = (target,)\n",
        "            input_loss += target\n",
        "\n",
        "        output_loss = criterion(*input_loss)\n",
        "        if type(output_loss) in [tuple,list]:\n",
        "            loss = output_loss[0] \n",
        "        else:\n",
        "            loss = output_loss\n",
        "        # append the loss to losses list and update the total_loss variable\n",
        "        losses.append(loss.item())\n",
        "        total_loss += loss.item()\n",
        "        # do a backward pass\n",
        "        loss.backward()\n",
        "        # update the weights\n",
        "        optimizer.step()\n",
        "        #### YOUR CODE ENDS HERE ####\n",
        "\n",
        "        if batch_idx % 20 == 0:\n",
        "            print('Train Epoch: {} [{}/{} ({:.0f}%)]\\tLoss: {:.6f}'.format(\n",
        "                epoch, batch_idx * len(data[0]), len(train_loader.dataset),\n",
        "                100. * batch_idx / len(train_loader), np.mean(losses)))  \n",
        "    total_loss /= (batch_idx + 1)\n",
        "    print('Average loss on training set: {:.6f}'.format(total_loss))\n",
        "    return total_loss\n",
        "\n",
        "def test(model, test_loader, device, criterion):\n",
        "    model.eval()\n",
        "    test_loss = 0\n",
        "    with torch.no_grad():\n",
        "        for batch_idx, (data, target) in enumerate(test_loader):\n",
        "          target = target if len(target) > 0 else None\n",
        "          #### YOUR CODE STARTS HERE ####\n",
        "          # send the image, target to the device\n",
        "          # data is not a single value here,\n",
        "          # ensure datatype of variable `data` is tuple\n",
        "          if not type(data) in [tuple,list]:\n",
        "            data = (data,)\n",
        "          if torch.cuda.is_available():\n",
        "              data = tuple(d.cuda() for d in data)\n",
        "              if target is not None:\n",
        "                  target = target.cuda()\n",
        "          # pass the image to the model and assign the output to variable named outputs\n",
        "          # python star operator will be useful here\n",
        "          outputs = model(*data)\n",
        "          # if the datatype of outputs is not a tuple, make it to a tuple\n",
        "          if type(outputs) not in [tuple,list]:\n",
        "                outputs = (outputs,)\n",
        "          input_loss = outputs\n",
        "          if target is not None:\n",
        "                target = (target,)\n",
        "                input_loss += target\n",
        "          # create inputs to the contrastive loss\n",
        "          # datatype of target should be tuple\n",
        "          # calculate the loss\n",
        "          output_loss = criterion(*input_loss)\n",
        "          if type(output_loss) in [tuple,list]:\n",
        "              loss = output_loss[0] \n",
        "          else:\n",
        "              loss = output_loss\n",
        "          # update the test_loss variable\n",
        "          test_loss += loss.item()\n",
        "          #### YOUR CODE ENDS HERE ####\n",
        "\n",
        "    test_loss /= len(test_loader)\n",
        "    print('Average loss on test set: {:.6f}'.format(test_loss))\n",
        "    return test_loss"
      ],
      "execution_count": 14,
      "outputs": []
    },
    {
      "cell_type": "code",
      "metadata": {
        "id": "aDZAVVWVcAC5"
      },
      "source": [
        "# define the training and test sets\n",
        "# use SiameseDataset\n",
        "train_dataset = SiameseDataset(train=True)\n",
        "test_dataset = SiameseDataset(train=False)\n",
        "\n",
        "# create dataloaders for training and test datasets\n",
        "# use a batch size of 128 and set shuffle=True for the training set, set num_workers to 2 and pin_memory to True\n",
        "train_dataloader = torch.utils.data.DataLoader(train_dataset, batch_size=128, shuffle=True, num_workers=2, pin_memory=2)\n",
        "test_dataloader = torch.utils.data.DataLoader(train_dataset, batch_size=128, shuffle=False, num_workers=2, pin_memory=2)\n",
        "\n",
        "margin = 1.\n",
        "# create a instance of the embedding network and pass it as input to Siamese network\n",
        "embedding_net = EmbeddingNet()\n",
        "model = SiameseNetwork(embedding_net)\n",
        "model.to(device)\n",
        "# define the contrative loss with the specified margin\n",
        "criterion = ContrastiveLossSiamese(margin)\n",
        "optimizer = optim.Adam(model.parameters())"
      ],
      "execution_count": 15,
      "outputs": []
    },
    {
      "cell_type": "code",
      "metadata": {
        "id": "ATettcj9IkMT"
      },
      "source": [
        "import matplotlib.pyplot as plt\n",
        "\n",
        "def plotting(epochs,train_loss_values,test_loss_values): \n",
        "    plt.plot(epochs,train_loss_values,'r-',label='train')\n",
        "    plt.plot(epochs,test_loss_values,'b-',label='test')\n",
        "    plt.xlabel('Epochs')\n",
        "    plt.ylabel('Loss')\n",
        "    plt.title('Loss graphs')\n",
        "    plt.legend()\n",
        "    plt.show()  "
      ],
      "execution_count": 16,
      "outputs": []
    },
    {
      "cell_type": "code",
      "metadata": {
        "id": "CejgunVGzJPK",
        "colab": {
          "base_uri": "https://localhost:8080/"
        },
        "outputId": "0b096156-025b-442c-a298-a8d4b10cbda1"
      },
      "source": [
        "start = timeit.default_timer()\n",
        "\n",
        "train_loss_values =  []\n",
        "test_loss_values =  []\n",
        "\n",
        "EPOCHS = 5\n",
        "for epoch in range(1, EPOCHS):\n",
        "  train_loss_epoch = train(model, train_dataloader, device, optimizer, criterion, epoch)\n",
        "  test_loss_epoch = test(model, test_dataloader, device, criterion)\n",
        "  train_loss_values.append(train_loss_epoch)\n",
        "  test_loss_values.append(test_loss_epoch)\n",
        "\n",
        "stop = timeit.default_timer()\n",
        "print('Total time taken: {} seconds'.format(int(stop - start)))"
      ],
      "execution_count": 17,
      "outputs": [
        {
          "output_type": "stream",
          "text": [
            "Train Epoch: 1 [0/60000 (0%)]\tLoss: 0.255644\n",
            "Train Epoch: 1 [2560/60000 (4%)]\tLoss: 0.138543\n",
            "Train Epoch: 1 [5120/60000 (9%)]\tLoss: 0.111815\n",
            "Train Epoch: 1 [7680/60000 (13%)]\tLoss: 0.098376\n",
            "Train Epoch: 1 [10240/60000 (17%)]\tLoss: 0.089923\n",
            "Train Epoch: 1 [12800/60000 (21%)]\tLoss: 0.083882\n",
            "Train Epoch: 1 [15360/60000 (26%)]\tLoss: 0.079102\n",
            "Train Epoch: 1 [17920/60000 (30%)]\tLoss: 0.074874\n",
            "Train Epoch: 1 [20480/60000 (34%)]\tLoss: 0.072321\n",
            "Train Epoch: 1 [23040/60000 (38%)]\tLoss: 0.069920\n",
            "Train Epoch: 1 [25600/60000 (43%)]\tLoss: 0.067864\n",
            "Train Epoch: 1 [28160/60000 (47%)]\tLoss: 0.066035\n",
            "Train Epoch: 1 [30720/60000 (51%)]\tLoss: 0.064405\n",
            "Train Epoch: 1 [33280/60000 (55%)]\tLoss: 0.063023\n",
            "Train Epoch: 1 [35840/60000 (60%)]\tLoss: 0.061788\n",
            "Train Epoch: 1 [38400/60000 (64%)]\tLoss: 0.060507\n",
            "Train Epoch: 1 [40960/60000 (68%)]\tLoss: 0.059245\n",
            "Train Epoch: 1 [43520/60000 (72%)]\tLoss: 0.058209\n",
            "Train Epoch: 1 [46080/60000 (77%)]\tLoss: 0.057136\n",
            "Train Epoch: 1 [48640/60000 (81%)]\tLoss: 0.056195\n",
            "Train Epoch: 1 [51200/60000 (85%)]\tLoss: 0.055229\n",
            "Train Epoch: 1 [53760/60000 (90%)]\tLoss: 0.054238\n",
            "Train Epoch: 1 [56320/60000 (94%)]\tLoss: 0.053332\n",
            "Train Epoch: 1 [58880/60000 (98%)]\tLoss: 0.052476\n",
            "Average loss on training set: 0.052199\n",
            "Average loss on test set: 0.036114\n",
            "Train Epoch: 2 [0/60000 (0%)]\tLoss: 0.038443\n",
            "Train Epoch: 2 [2560/60000 (4%)]\tLoss: 0.036999\n",
            "Train Epoch: 2 [5120/60000 (9%)]\tLoss: 0.035594\n",
            "Train Epoch: 2 [7680/60000 (13%)]\tLoss: 0.033732\n",
            "Train Epoch: 2 [10240/60000 (17%)]\tLoss: 0.033681\n",
            "Train Epoch: 2 [12800/60000 (21%)]\tLoss: 0.033215\n",
            "Train Epoch: 2 [15360/60000 (26%)]\tLoss: 0.033166\n",
            "Train Epoch: 2 [17920/60000 (30%)]\tLoss: 0.032629\n",
            "Train Epoch: 2 [20480/60000 (34%)]\tLoss: 0.032617\n",
            "Train Epoch: 2 [23040/60000 (38%)]\tLoss: 0.032250\n",
            "Train Epoch: 2 [25600/60000 (43%)]\tLoss: 0.031766\n",
            "Train Epoch: 2 [28160/60000 (47%)]\tLoss: 0.031609\n",
            "Train Epoch: 2 [30720/60000 (51%)]\tLoss: 0.031125\n",
            "Train Epoch: 2 [33280/60000 (55%)]\tLoss: 0.030870\n",
            "Train Epoch: 2 [35840/60000 (60%)]\tLoss: 0.030512\n",
            "Train Epoch: 2 [38400/60000 (64%)]\tLoss: 0.030322\n",
            "Train Epoch: 2 [40960/60000 (68%)]\tLoss: 0.030323\n",
            "Train Epoch: 2 [43520/60000 (72%)]\tLoss: 0.030145\n",
            "Train Epoch: 2 [46080/60000 (77%)]\tLoss: 0.029849\n",
            "Train Epoch: 2 [48640/60000 (81%)]\tLoss: 0.029632\n",
            "Train Epoch: 2 [51200/60000 (85%)]\tLoss: 0.029355\n",
            "Train Epoch: 2 [53760/60000 (90%)]\tLoss: 0.029062\n",
            "Train Epoch: 2 [56320/60000 (94%)]\tLoss: 0.028840\n",
            "Train Epoch: 2 [58880/60000 (98%)]\tLoss: 0.028627\n",
            "Average loss on training set: 0.028529\n",
            "Average loss on test set: 0.023511\n",
            "Train Epoch: 3 [0/60000 (0%)]\tLoss: 0.025650\n",
            "Train Epoch: 3 [2560/60000 (4%)]\tLoss: 0.023028\n",
            "Train Epoch: 3 [5120/60000 (9%)]\tLoss: 0.023031\n",
            "Train Epoch: 3 [7680/60000 (13%)]\tLoss: 0.022459\n",
            "Train Epoch: 3 [10240/60000 (17%)]\tLoss: 0.022148\n",
            "Train Epoch: 3 [12800/60000 (21%)]\tLoss: 0.022105\n",
            "Train Epoch: 3 [15360/60000 (26%)]\tLoss: 0.021866\n",
            "Train Epoch: 3 [17920/60000 (30%)]\tLoss: 0.021806\n",
            "Train Epoch: 3 [20480/60000 (34%)]\tLoss: 0.021565\n",
            "Train Epoch: 3 [23040/60000 (38%)]\tLoss: 0.021387\n",
            "Train Epoch: 3 [25600/60000 (43%)]\tLoss: 0.021237\n",
            "Train Epoch: 3 [28160/60000 (47%)]\tLoss: 0.021218\n",
            "Train Epoch: 3 [30720/60000 (51%)]\tLoss: 0.021079\n",
            "Train Epoch: 3 [33280/60000 (55%)]\tLoss: 0.021085\n",
            "Train Epoch: 3 [35840/60000 (60%)]\tLoss: 0.021144\n",
            "Train Epoch: 3 [38400/60000 (64%)]\tLoss: 0.021081\n",
            "Train Epoch: 3 [40960/60000 (68%)]\tLoss: 0.021216\n",
            "Train Epoch: 3 [43520/60000 (72%)]\tLoss: 0.021315\n",
            "Train Epoch: 3 [46080/60000 (77%)]\tLoss: 0.021246\n",
            "Train Epoch: 3 [48640/60000 (81%)]\tLoss: 0.020975\n",
            "Train Epoch: 3 [51200/60000 (85%)]\tLoss: 0.020772\n",
            "Train Epoch: 3 [53760/60000 (90%)]\tLoss: 0.020794\n",
            "Train Epoch: 3 [56320/60000 (94%)]\tLoss: 0.020594\n",
            "Train Epoch: 3 [58880/60000 (98%)]\tLoss: 0.020400\n",
            "Average loss on training set: 0.020376\n",
            "Average loss on test set: 0.017657\n",
            "Train Epoch: 4 [0/60000 (0%)]\tLoss: 0.018889\n",
            "Train Epoch: 4 [2560/60000 (4%)]\tLoss: 0.020436\n",
            "Train Epoch: 4 [5120/60000 (9%)]\tLoss: 0.019568\n",
            "Train Epoch: 4 [7680/60000 (13%)]\tLoss: 0.018454\n",
            "Train Epoch: 4 [10240/60000 (17%)]\tLoss: 0.017766\n",
            "Train Epoch: 4 [12800/60000 (21%)]\tLoss: 0.017231\n",
            "Train Epoch: 4 [15360/60000 (26%)]\tLoss: 0.016990\n",
            "Train Epoch: 4 [17920/60000 (30%)]\tLoss: 0.016546\n",
            "Train Epoch: 4 [20480/60000 (34%)]\tLoss: 0.016300\n",
            "Train Epoch: 4 [23040/60000 (38%)]\tLoss: 0.016158\n",
            "Train Epoch: 4 [25600/60000 (43%)]\tLoss: 0.016040\n",
            "Train Epoch: 4 [28160/60000 (47%)]\tLoss: 0.015968\n",
            "Train Epoch: 4 [30720/60000 (51%)]\tLoss: 0.015676\n",
            "Train Epoch: 4 [33280/60000 (55%)]\tLoss: 0.015451\n",
            "Train Epoch: 4 [35840/60000 (60%)]\tLoss: 0.015368\n",
            "Train Epoch: 4 [38400/60000 (64%)]\tLoss: 0.015345\n",
            "Train Epoch: 4 [40960/60000 (68%)]\tLoss: 0.015273\n",
            "Train Epoch: 4 [43520/60000 (72%)]\tLoss: 0.015251\n",
            "Train Epoch: 4 [46080/60000 (77%)]\tLoss: 0.015243\n",
            "Train Epoch: 4 [48640/60000 (81%)]\tLoss: 0.015208\n",
            "Train Epoch: 4 [51200/60000 (85%)]\tLoss: 0.015268\n",
            "Train Epoch: 4 [53760/60000 (90%)]\tLoss: 0.015120\n",
            "Train Epoch: 4 [56320/60000 (94%)]\tLoss: 0.015103\n",
            "Train Epoch: 4 [58880/60000 (98%)]\tLoss: 0.015083\n",
            "Average loss on training set: 0.015041\n",
            "Average loss on test set: 0.013530\n",
            "Total time taken: 133 seconds\n"
          ],
          "name": "stdout"
        }
      ]
    },
    {
      "cell_type": "markdown",
      "metadata": {
        "id": "5S0vb38a_o_r"
      },
      "source": [
        "### Question 4\n",
        "\n",
        "Run the code cell above and plot(on the same graph) the average train and test losses w.r.t epochs trained."
      ]
    },
    {
      "cell_type": "code",
      "metadata": {
        "colab": {
          "base_uri": "https://localhost:8080/",
          "height": 295
        },
        "id": "-RmUKJ2EOiIJ",
        "outputId": "66d1ad69-b2af-44e2-9cf1-ac38c172dc45"
      },
      "source": [
        "plotting(np.linspace(1, EPOCHS-1, EPOCHS-1).astype(int),train_loss_values,test_loss_values)"
      ],
      "execution_count": 18,
      "outputs": [
        {
          "output_type": "display_data",
          "data": {
            "image/png": "[encoded data removed]",
            "text/plain": [
              "<Figure size 432x288 with 1 Axes>"
            ]
          },
          "metadata": {
            "tags": [],
            "needs_background": "light"
          }
        }
      ]
    },
    {
      "cell_type": "markdown",
      "metadata": {
        "id": "vgyN14PN5npM"
      },
      "source": [
        "### Question 5\n",
        "\n",
        "We have looked at training a Siamese Network with a pairwise contrastive loss. How would you modify the architecture above to use a triplet loss? The triplet loss is a ranking loss that uses image triplets consisting of an anchor $x_a$, a positive sample(similar to the anchor image) $x_p$ and a negative sample(dissimilar to the anchor image) $x_n$. Given triplet $(x_a, x_p, x_n)$ the teiplet loss is:\n",
        "\n",
        "$$\n",
        "L\\left(x_{a}, x_{p}, x_{n}\\right)=\\max \\left(0, m + \\|f(x_{a})-f(x_{p})\\|_{2}^{2} - \\|f(x_{a})-f(x_{n})\\|_{2}^{2}\\right)\n",
        "$$\n",
        "\n",
        "1. Write the dataloader to get triplets.\n",
        "2. Write code for class TripletLossSiamese. (the triplet loss)\n",
        "3. Describe in words how would you modify the network architecture to train it with a triplet loss."
      ]
    },
    {
      "cell_type": "code",
      "metadata": {
        "id": "s1UhDPNO5npM"
      },
      "source": [
        "class TripletDataset(Dataset):\n",
        "    def __init__(self, train=True):\n",
        "        \n",
        "        self.train = train\n",
        "        #### YOUR CODE STARTS HERE ####\n",
        "        # Define a set of transforms for preparing the dataset\n",
        "        to_tensor = transforms.ToTensor()\n",
        "        normalise = transforms.Normalize(mean= (0.1307,),std = (0.3081,))\n",
        "                          # convert the image to a pytorch tensor\n",
        "                          # normalise the images with mean and std of the dataset\n",
        "        self.transform = transforms.Compose([to_tensor,normalise,])\n",
        "        # Load the MNIST training, test datasets using `torchvision.datasets.MNIST\n",
        "        # Set the train parameter to self.train and transform parameter to self.transform\n",
        "        train_dataset = datasets.MNIST('./',train=True,download=True,transform=self.transform)\n",
        "        test_dataset = datasets.MNIST('./',train=False,download=True,transform=self.transform)\n",
        "\n",
        "        if self.train:\n",
        "            self.dataset = train_dataset\n",
        "        else:\n",
        "            self.dataset = test_dataset\n",
        "\n",
        "        #### YOUR CODE ENDS HERE ####\n",
        "        if self.train:\n",
        "            #### YOUR CODE STARTS HERE ####\n",
        "            # assign input (x-values) of training data \n",
        "            self.train_data = self.dataset.data\n",
        "            # assign labels of training data \n",
        "            self.train_labels = self.dataset.targets\n",
        "            # get the set of all the labels in the dataset\n",
        "            self.labels_all = set(self.train_labels.numpy())\n",
        "            # assign a unique index to all labels in the dataset and store them in a dictionary \n",
        "            self.label_to_idx = {label: np.where(self.train_labels.numpy() == label)[0] for label in self.labels_all} \n",
        "\n",
        "            #### YOUR CODE ENDS HERE ####\n",
        "        else:\n",
        "            #### YOUR CODE STARTS HERE ####\n",
        "            # assign input (x-values) of test data \n",
        "            self.test_data = self.dataset.data\n",
        "            # assign labels of test data \n",
        "            self.test_labels = self.dataset.targets\n",
        "            # get the set of all the labels in the dataset\n",
        "            self.labels_all = set(self.test_labels.numpy())\n",
        "            self.label_to_idx = {label: np.where(self.test_labels.numpy() == label)[0] for label in self.labels_all} # assign a unique index to all labels in the dataset and store them in a dictionary \n",
        "\n",
        "            #### YOUR CODE ENDS HERE ####\n",
        "            # DONOT change this line of code  \n",
        "            random_state = np.random.RandomState(0)\n",
        "            triplets = [] #this will be list of lists\n",
        "            for i in range(len(self.test_data)):\n",
        "                triplets.append([i, random_state.choice(self.label_to_idx[self.test_labels[i].item()]),\n",
        "                 random_state.choice(self.label_to_idx[np.random.choice(list(self.labels_all - set([self.test_labels[i].item()])))])\n",
        "                                ])\n",
        "            self.test_samples = triplets\n",
        "\n",
        "           \n",
        "    def __len__(self):\n",
        "        return len(self.dataset)\n",
        "\n",
        "    def __getitem__(self, index):\n",
        "        # get image triplet\n",
        "        if self.train:\n",
        "            anchor, anchor_label = self.train_data[index], self.train_labels[index].item()\n",
        "            #### YOUR CODE STARTS HERE ####\n",
        "            #choose positive and negative image call them `positive` and `negative` respectively\n",
        "            positive_index = index\n",
        "            while positive_index == index:\n",
        "                positive_index = np.random.choice(self.label_to_idx[anchor_label])\n",
        "            negative_label = np.random.choice(list(self.labels_all - set([anchor_label])))\n",
        "            negative_index = np.random.choice(self.label_to_idx[negative_label])\n",
        "            positive = self.train_data[positive_index]\n",
        "            negative = self.train_data[negative_index]\n",
        "            #### YOUR CODE ENDS HERE ####\n",
        "        else:\n",
        "            #### YOUR CODE STARTS HERE ####\n",
        "            # select three images from self.test_samples\n",
        "            anchor = self.test_data[self.test_samples[index][0]]\n",
        "            positive = self.test_data[self.test_samples[index][1]]\n",
        "            negative = self.test_data[self.test_samples[index][2]]\n",
        "            #### YOUR CODE ENDS HERE ####\n",
        "        \n",
        "        anchor = Image.fromarray(anchor.numpy(), mode='L')\n",
        "        positive = Image.fromarray(positive.numpy(), mode='L')\n",
        "        negative = Image.fromarray(negative.numpy(), mode='L')\n",
        "        anchor = self.transform(anchor)\n",
        "        positive = self.transform(positive)\n",
        "        negative = self.transform(negative)\n",
        "        return (anchor, positive, negative), []"
      ],
      "execution_count": 19,
      "outputs": []
    },
    {
      "cell_type": "code",
      "metadata": {
        "id": "Yz-LGiJN5npM"
      },
      "source": [
        "# Question 2.2, define triplet loss\n",
        "class TripletLossSiamese(nn.Module):\n",
        "\n",
        "    def __init__(self, margin):\n",
        "        super(TripletLossSiamese, self).__init__()\n",
        "        self.margin = margin\n",
        "\n",
        "    def forward(self, output_anchor, output_positive, output_negative):\n",
        "        # Use the triplet loss equation mentioned above to define the loss\n",
        "        #### YOUR CODE STARTS HERE ####\n",
        "        anchor_positive_distance = (output_anchor - output_positive).pow(2).sum(1)\n",
        "        anchor_negative_distance = (output_anchor - output_negative).pow(2).sum(1)\n",
        "        loss_value = F.relu(self.margin + anchor_positive_distance - anchor_negative_distance )\n",
        "        #### YOUR CODE ENDS HERE ####\n",
        "        loss_value = loss_value.mean()\n",
        "\n",
        "        return loss_value"
      ],
      "execution_count": 20,
      "outputs": []
    },
    {
      "cell_type": "markdown",
      "metadata": {
        "id": "PMiVxYLYTSGh"
      },
      "source": [
        "# 2.3 Answer\n",
        "\n",
        "- In case of TripletDataset, we send 3 images(anchor, positive, negative). Therefore in the **forward** layer it will recieve three inputs. \n",
        "- So the definition of the function should be changed to \n",
        "\n",
        "  ```def forward(self, x1, x2, x3):```\n",
        "- And also we should add the following line to the forward function\n",
        "\n",
        "  ```op3 = self.embedding_net(x3)```\n",
        "- return statement in forward function has to be changed to \n",
        "\n",
        "   ```return op1, op2, op3```\n",
        "- The train and test functions will remain the same, as the list will be sent using the * operator no matter what's it's size(2 while Contrastive loss, 3 while using TripletLoss) in Python.\n",
        "- I have written code by changing the above mentioned things. The following 4 code blocks has the code of TripleNetwork, Training part, Plotting.  "
      ]
    },
    {
      "cell_type": "code",
      "metadata": {
        "id": "rlBHh1M8Q1nv"
      },
      "source": [
        "class TripletNetwork(nn.Module):\n",
        "    def __init__(self, embedding_net):\n",
        "        super(TripletNetwork, self).__init__()\n",
        "        self.embedding_net = embedding_net\n",
        "\n",
        "    def forward(self, x1, x2, x3):\n",
        "        # Call the embedding network for both the inputs and return the output\n",
        "        #### YOUR CODE ENDS HERE ####\n",
        "        op1 = self.embedding_net(x1)\n",
        "        op2 = self.embedding_net(x2)\n",
        "        op3 = self.embedding_net(x3)\n",
        "        #### YOUR CODE ENDS HERE ####\n",
        "        return op1, op2, op3"
      ],
      "execution_count": 21,
      "outputs": []
    },
    {
      "cell_type": "code",
      "metadata": {
        "id": "NnPTOOS_QxkE"
      },
      "source": [
        "# define the training and test sets\n",
        "# use TripletDataset\n",
        "train_dataset = TripletDataset(train=True)\n",
        "test_dataset = TripletDataset(train=False)\n",
        "\n",
        "# create dataloaders for training and test datasets\n",
        "# use a batch size of 128 and set shuffle=True for the training set, set num_workers to 2 and pin_memory to True\n",
        "train_dataloader = torch.utils.data.DataLoader(train_dataset, batch_size=128, shuffle=True, num_workers=2, pin_memory=2)\n",
        "test_dataloader = torch.utils.data.DataLoader(train_dataset, batch_size=128, shuffle=False, num_workers=2, pin_memory=2)\n",
        "\n",
        "margin = 1.\n",
        "# create a instance of the embedding network and pass it as input to Siamese network\n",
        "embedding_net = EmbeddingNet()\n",
        "model = TripletNetwork(embedding_net)\n",
        "model.to(device)\n",
        "# define the contrative loss with the specified margin\n",
        "criterion = TripletLossSiamese(margin)\n",
        "optimizer = optim.Adam(model.parameters())"
      ],
      "execution_count": 22,
      "outputs": []
    },
    {
      "cell_type": "code",
      "metadata": {
        "colab": {
          "base_uri": "https://localhost:8080/"
        },
        "id": "Yzff2XRMRAhd",
        "outputId": "ca83c4a2-7480-48ef-8889-64d6fe37448f"
      },
      "source": [
        "start = timeit.default_timer()\n",
        "\n",
        "train_loss_values =  []\n",
        "test_loss_values =  []\n",
        "\n",
        "EPOCHS = 5\n",
        "for epoch in range(1, EPOCHS):\n",
        "  train_loss_epoch = train(model, train_dataloader, device, optimizer, criterion, epoch)\n",
        "  test_loss_epoch = test(model, test_dataloader, device, criterion)\n",
        "  train_loss_values.append(train_loss_epoch)\n",
        "  test_loss_values.append(test_loss_epoch)\n",
        "\n",
        "stop = timeit.default_timer()\n",
        "print('Total time taken: {} seconds'.format(int(stop - start)))"
      ],
      "execution_count": 23,
      "outputs": [
        {
          "output_type": "stream",
          "text": [
            "Train Epoch: 1 [0/60000 (0%)]\tLoss: 0.999954\n",
            "Train Epoch: 1 [2560/60000 (4%)]\tLoss: 0.725143\n",
            "Train Epoch: 1 [5120/60000 (9%)]\tLoss: 0.546979\n",
            "Train Epoch: 1 [7680/60000 (13%)]\tLoss: 0.463427\n",
            "Train Epoch: 1 [10240/60000 (17%)]\tLoss: 0.404116\n",
            "Train Epoch: 1 [12800/60000 (21%)]\tLoss: 0.373809\n",
            "Train Epoch: 1 [15360/60000 (26%)]\tLoss: 0.343182\n",
            "Train Epoch: 1 [17920/60000 (30%)]\tLoss: 0.323203\n",
            "Train Epoch: 1 [20480/60000 (34%)]\tLoss: 0.307564\n",
            "Train Epoch: 1 [23040/60000 (38%)]\tLoss: 0.292682\n",
            "Train Epoch: 1 [25600/60000 (43%)]\tLoss: 0.281696\n",
            "Train Epoch: 1 [28160/60000 (47%)]\tLoss: 0.271232\n",
            "Train Epoch: 1 [30720/60000 (51%)]\tLoss: 0.260000\n",
            "Train Epoch: 1 [33280/60000 (55%)]\tLoss: 0.251768\n",
            "Train Epoch: 1 [35840/60000 (60%)]\tLoss: 0.244620\n",
            "Train Epoch: 1 [38400/60000 (64%)]\tLoss: 0.239361\n",
            "Train Epoch: 1 [40960/60000 (68%)]\tLoss: 0.233507\n",
            "Train Epoch: 1 [43520/60000 (72%)]\tLoss: 0.227757\n",
            "Train Epoch: 1 [46080/60000 (77%)]\tLoss: 0.222819\n",
            "Train Epoch: 1 [48640/60000 (81%)]\tLoss: 0.219664\n",
            "Train Epoch: 1 [51200/60000 (85%)]\tLoss: 0.215492\n",
            "Train Epoch: 1 [53760/60000 (90%)]\tLoss: 0.211470\n",
            "Train Epoch: 1 [56320/60000 (94%)]\tLoss: 0.208230\n",
            "Train Epoch: 1 [58880/60000 (98%)]\tLoss: 0.204697\n",
            "Average loss on training set: 0.203564\n",
            "Average loss on test set: 0.136497\n",
            "Train Epoch: 2 [0/60000 (0%)]\tLoss: 0.136233\n",
            "Train Epoch: 2 [2560/60000 (4%)]\tLoss: 0.130471\n",
            "Train Epoch: 2 [5120/60000 (9%)]\tLoss: 0.132141\n",
            "Train Epoch: 2 [7680/60000 (13%)]\tLoss: 0.137257\n",
            "Train Epoch: 2 [10240/60000 (17%)]\tLoss: 0.133247\n",
            "Train Epoch: 2 [12800/60000 (21%)]\tLoss: 0.131548\n",
            "Train Epoch: 2 [15360/60000 (26%)]\tLoss: 0.129349\n",
            "Train Epoch: 2 [17920/60000 (30%)]\tLoss: 0.126053\n",
            "Train Epoch: 2 [20480/60000 (34%)]\tLoss: 0.125012\n",
            "Train Epoch: 2 [23040/60000 (38%)]\tLoss: 0.125490\n",
            "Train Epoch: 2 [25600/60000 (43%)]\tLoss: 0.124784\n",
            "Train Epoch: 2 [28160/60000 (47%)]\tLoss: 0.124254\n",
            "Train Epoch: 2 [30720/60000 (51%)]\tLoss: 0.122201\n",
            "Train Epoch: 2 [33280/60000 (55%)]\tLoss: 0.121362\n",
            "Train Epoch: 2 [35840/60000 (60%)]\tLoss: 0.119219\n",
            "Train Epoch: 2 [38400/60000 (64%)]\tLoss: 0.118841\n",
            "Train Epoch: 2 [40960/60000 (68%)]\tLoss: 0.119022\n",
            "Train Epoch: 2 [43520/60000 (72%)]\tLoss: 0.118060\n",
            "Train Epoch: 2 [46080/60000 (77%)]\tLoss: 0.116985\n",
            "Train Epoch: 2 [48640/60000 (81%)]\tLoss: 0.115252\n",
            "Train Epoch: 2 [51200/60000 (85%)]\tLoss: 0.114243\n",
            "Train Epoch: 2 [53760/60000 (90%)]\tLoss: 0.113131\n",
            "Train Epoch: 2 [56320/60000 (94%)]\tLoss: 0.112935\n",
            "Train Epoch: 2 [58880/60000 (98%)]\tLoss: 0.112624\n",
            "Average loss on training set: 0.112060\n",
            "Average loss on test set: 0.098566\n",
            "Train Epoch: 3 [0/60000 (0%)]\tLoss: 0.142473\n",
            "Train Epoch: 3 [2560/60000 (4%)]\tLoss: 0.092399\n",
            "Train Epoch: 3 [5120/60000 (9%)]\tLoss: 0.089116\n",
            "Train Epoch: 3 [7680/60000 (13%)]\tLoss: 0.090002\n",
            "Train Epoch: 3 [10240/60000 (17%)]\tLoss: 0.089325\n",
            "Train Epoch: 3 [12800/60000 (21%)]\tLoss: 0.086810\n",
            "Train Epoch: 3 [15360/60000 (26%)]\tLoss: 0.087142\n",
            "Train Epoch: 3 [17920/60000 (30%)]\tLoss: 0.086696\n",
            "Train Epoch: 3 [20480/60000 (34%)]\tLoss: 0.088547\n",
            "Train Epoch: 3 [23040/60000 (38%)]\tLoss: 0.089231\n",
            "Train Epoch: 3 [25600/60000 (43%)]\tLoss: 0.088346\n",
            "Train Epoch: 3 [28160/60000 (47%)]\tLoss: 0.088051\n",
            "Train Epoch: 3 [30720/60000 (51%)]\tLoss: 0.087717\n",
            "Train Epoch: 3 [33280/60000 (55%)]\tLoss: 0.088068\n",
            "Train Epoch: 3 [35840/60000 (60%)]\tLoss: 0.086920\n",
            "Train Epoch: 3 [38400/60000 (64%)]\tLoss: 0.086001\n",
            "Train Epoch: 3 [40960/60000 (68%)]\tLoss: 0.086404\n",
            "Train Epoch: 3 [43520/60000 (72%)]\tLoss: 0.087543\n",
            "Train Epoch: 3 [46080/60000 (77%)]\tLoss: 0.087908\n",
            "Train Epoch: 3 [48640/60000 (81%)]\tLoss: 0.087126\n",
            "Train Epoch: 3 [51200/60000 (85%)]\tLoss: 0.086372\n",
            "Train Epoch: 3 [53760/60000 (90%)]\tLoss: 0.085418\n",
            "Train Epoch: 3 [56320/60000 (94%)]\tLoss: 0.085884\n",
            "Train Epoch: 3 [58880/60000 (98%)]\tLoss: 0.086456\n",
            "Average loss on training set: 0.086420\n",
            "Average loss on test set: 0.072296\n",
            "Train Epoch: 4 [0/60000 (0%)]\tLoss: 0.025531\n",
            "Train Epoch: 4 [2560/60000 (4%)]\tLoss: 0.086119\n",
            "Train Epoch: 4 [5120/60000 (9%)]\tLoss: 0.081881\n",
            "Train Epoch: 4 [7680/60000 (13%)]\tLoss: 0.075366\n",
            "Train Epoch: 4 [10240/60000 (17%)]\tLoss: 0.074331\n",
            "Train Epoch: 4 [12800/60000 (21%)]\tLoss: 0.077766\n",
            "Train Epoch: 4 [15360/60000 (26%)]\tLoss: 0.076217\n",
            "Train Epoch: 4 [17920/60000 (30%)]\tLoss: 0.074630\n",
            "Train Epoch: 4 [20480/60000 (34%)]\tLoss: 0.075355\n",
            "Train Epoch: 4 [23040/60000 (38%)]\tLoss: 0.076592\n",
            "Train Epoch: 4 [25600/60000 (43%)]\tLoss: 0.075533\n",
            "Train Epoch: 4 [28160/60000 (47%)]\tLoss: 0.074642\n",
            "Train Epoch: 4 [30720/60000 (51%)]\tLoss: 0.074095\n",
            "Train Epoch: 4 [33280/60000 (55%)]\tLoss: 0.074286\n",
            "Train Epoch: 4 [35840/60000 (60%)]\tLoss: 0.074150\n",
            "Train Epoch: 4 [38400/60000 (64%)]\tLoss: 0.074353\n",
            "Train Epoch: 4 [40960/60000 (68%)]\tLoss: 0.073432\n",
            "Train Epoch: 4 [43520/60000 (72%)]\tLoss: 0.073570\n",
            "Train Epoch: 4 [46080/60000 (77%)]\tLoss: 0.072810\n",
            "Train Epoch: 4 [48640/60000 (81%)]\tLoss: 0.072398\n",
            "Train Epoch: 4 [51200/60000 (85%)]\tLoss: 0.071991\n",
            "Train Epoch: 4 [53760/60000 (90%)]\tLoss: 0.072017\n",
            "Train Epoch: 4 [56320/60000 (94%)]\tLoss: 0.071456\n",
            "Train Epoch: 4 [58880/60000 (98%)]\tLoss: 0.071051\n",
            "Average loss on training set: 0.071009\n",
            "Average loss on test set: 0.058487\n",
            "Total time taken: 183 seconds\n"
          ],
          "name": "stdout"
        }
      ]
    },
    {
      "cell_type": "code",
      "metadata": {
        "colab": {
          "base_uri": "https://localhost:8080/",
          "height": 295
        },
        "id": "22Ci6tHxVhz7",
        "outputId": "33d1004a-980d-470c-e5ae-e39bdfd2cc79"
      },
      "source": [
        "plotting(np.linspace(1, EPOCHS-1, EPOCHS-1).astype(int),train_loss_values,test_loss_values)"
      ],
      "execution_count": 24,
      "outputs": [
        {
          "output_type": "display_data",
          "data": {
            "image/png": "[encoded data removed]",
            "text/plain": [
              "<Figure size 432x288 with 1 Axes>"
            ]
          },
          "metadata": {
            "tags": [],
            "needs_background": "light"
          }
        }
      ]
    },
    {
      "cell_type": "markdown",
      "metadata": {
        "id": "6oP275cQFPvA"
      },
      "source": [
        "## Object Detection\n",
        "\n",
        "Go through the [Torchvision Object Detection Tutorial](https://pytorch.org/tutorials/intermediate/torchvision_tutorial.html) and ensure you understand the tutorial completely!\n",
        "\n",
        "After you have completely gone through the tutorial answer the following questions!"
      ]
    },
    {
      "cell_type": "markdown",
      "metadata": {
        "id": "LtaG0iORIXid"
      },
      "source": [
        "### Question 6\n",
        "\n",
        "Consider the metrics `AP@IoU=0.5` and `AP@IoU=0.75` used in the tutorial. Which of the following statements is True?  \n",
        "\n",
        "1. `IoU@0.75` will always be less than `IoU@0.5`\n",
        "2. `IoU@0.75` will always be  greater than `IoU@0.5` \n",
        "3. `IoU@0.75` need not be always be less than `IoU@0.5`\n",
        "4. `IoU@0.75` need not always be  greater than `IoU@0.5` "
      ]
    },
    {
      "cell_type": "markdown",
      "metadata": {
        "id": "tkeeNMJDR0tw"
      },
      "source": [
        "### Answer :\n",
        "1. Flase (IOU@0.75 can be equal to IOU@0.5)\n",
        "2. False\n",
        "3. True (IOU@0.75 can be equal to IOU@0.5)\n",
        "4. True (IOU@0.75 can be equal to IOU@0.5)\n",
        "\n",
        "> IOU@0.75 can be equal to IOU@0.5 - It is possible that with different thresholds there can be same number of bounding boxes.\n",
        "\n"
      ]
    },
    {
      "cell_type": "markdown",
      "metadata": {
        "id": "n9yyqsuyPAMv"
      },
      "source": [
        "### Question 7\n",
        "\n",
        "Tutorial uses a network that is pre-trained on COCO dataset. Will training this model from scratch improve the performance? Provide justification for your answer. (Hint: You don't really have to re-train the model for this)"
      ]
    },
    {
      "cell_type": "markdown",
      "metadata": {
        "id": "Q1Q2JntEQCuN"
      },
      "source": [
        "### Answer\n",
        "The Penn-Fudan dataset that they have considered here has only 170 images. If we take the model and retrain it on this dataset, it would **overfit** as number of data points are very less. Model performance will **decrease** drastically."
      ]
    },
    {
      "cell_type": "markdown",
      "metadata": {
        "id": "71DVEZQf5hr8"
      },
      "source": [
        "### Question 8\n",
        "\n",
        "Write code to calculate IoU between aligned predicted bounding-boxes bbox_p and ground-truth bounding-boxes bbox_gt. Assume a co-ordinate system that has origin (0,0) at the upper-left corner of the image, and to the  right and down are +ve directions of x-axis and y-axis respectively."
      ]
    },
    {
      "cell_type": "code",
      "metadata": {
        "id": "FxBX2mkkD6qK"
      },
      "source": [
        "def calculate_iou(bbox_p, bbox_gt):\n",
        "    #input: bbox_p and bbox_gt are (N,4) tensors\n",
        "    #output: ious (N,) vector\n",
        "    N = bbox_p.size(0)\n",
        "    \n",
        "    #### YOUR CODE STARTS HERE ####\n",
        "    # write code to compute the IoU between the bounding boxes\n",
        "    cord_xp = torch.max(bbox_p[:, 0], bbox_gt[:, 0])\n",
        "    cord_yp = torch.max(bbox_p[:, 1], bbox_gt[:, 1])\n",
        "    cord_xgt = torch.min(bbox_p[:, 2], bbox_gt[:, 2])\n",
        "    cord_ygt = torch.min(bbox_p[:, 3], bbox_gt[:, 3])\n",
        "\n",
        "    intersectionArea = torch.max(cord_xgt - cord_xp, torch.zeros((N,))) * torch.max(cord_ygt - cord_yp, torch.zeros((N,)))\n",
        "\n",
        "    pArea = ((bbox_p[:,2] - bbox_p[:,0]) * (bbox_p[:,3] - bbox_p[:,1]))\n",
        "    gtArea = ((bbox_gt[:, 2] - bbox_gt[:, 0]) * (bbox_gt[:, 3] - bbox_gt[:, 1]))\n",
        "\n",
        "    unionArea = pArea + gtArea - intersectionArea\n",
        "    ious = intersectionArea/unionArea\n",
        "    #### YOUR CODE ENDS HERE ####\n",
        "    \n",
        "    return ious"
      ],
      "execution_count": 25,
      "outputs": []
    },
    {
      "cell_type": "markdown",
      "metadata": {
        "id": "jR10OiXy6SkR"
      },
      "source": [
        ""
      ]
    }
  ]
}